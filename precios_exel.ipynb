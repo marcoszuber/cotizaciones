{
 "cells": [
  {
   "cell_type": "code",
   "execution_count": 19,
   "metadata": {},
   "outputs": [
    {
     "ename": "KeyboardInterrupt",
     "evalue": "",
     "output_type": "error",
     "traceback": [
      "\u001b[0;31m---------------------------------------------------------------------------\u001b[0m",
      "\u001b[0;31mKeyboardInterrupt\u001b[0m                         Traceback (most recent call last)",
      "\u001b[1;32m/Users/mrz/Documents/jupyter/anker/precios_exel.ipynb Celda 1\u001b[0m in \u001b[0;36m<cell line: 54>\u001b[0;34m()\u001b[0m\n\u001b[1;32m     <a href='vscode-notebook-cell:/Users/mrz/Documents/jupyter/anker/precios_exel.ipynb#W0sZmlsZQ%3D%3D?line=52'>53</a>\u001b[0m \u001b[39mwhile\u001b[39;00m \u001b[39mTrue\u001b[39;00m:\n\u001b[1;32m     <a href='vscode-notebook-cell:/Users/mrz/Documents/jupyter/anker/precios_exel.ipynb#W0sZmlsZQ%3D%3D?line=53'>54</a>\u001b[0m     actualizar_precio()\n\u001b[0;32m---> <a href='vscode-notebook-cell:/Users/mrz/Documents/jupyter/anker/precios_exel.ipynb#W0sZmlsZQ%3D%3D?line=54'>55</a>\u001b[0m     time\u001b[39m.\u001b[39;49msleep(\u001b[39m60\u001b[39;49m)\n",
      "\u001b[0;31mKeyboardInterrupt\u001b[0m: "
     ]
    }
   ],
   "source": [
    "import os\n",
    "import requests\n",
    "from bs4 import BeautifulSoup\n",
    "from openpyxl import load_workbook, Workbook\n",
    "from openpyxl.utils import get_column_letter\n",
    "from openpyxl.styles import Alignment\n",
    "import time\n",
    "\n",
    "# URL de la página web a scrapear\n",
    "url = \"https://iol.invertironline.com/titulo/cotizacion/BCBA/AL30D/BONO-REP.-ARGENTINA-USD-STEP-UP-2030/\"\n",
    "\n",
    "# Ruta del archivo de Excel\n",
    "ruta_excel = \"/Users/mrz/Documents/jupyter/anker/precio.xlsx\"\n",
    "\n",
    "\n",
    "# Crear el archivo de Excel si no existe\n",
    "if not os.path.exists(ruta_excel):\n",
    "    wb = Workbook()\n",
    "    ws = wb.active\n",
    "    ws.title = \"Precio\"\n",
    "    ws.column_dimensions[get_column_letter(1)].width = 20\n",
    "    ws['A1'] = \"Último Precio\"\n",
    "    ws['A1'].alignment = Alignment(horizontal='center')\n",
    "    wb.save(ruta_excel)\n",
    "\n",
    "# Cargar el archivo de Excel existente\n",
    "wb = load_workbook(ruta_excel)\n",
    "ws = wb.active\n",
    "\n",
    "# Definir la función para actualizar y guardar el precio\n",
    "def actualizar_precio():\n",
    "    response = requests.get(url)\n",
    "\n",
    "    if response.status_code == 200:\n",
    "        soup = BeautifulSoup(response.content, \"html.parser\")\n",
    "        elemento_precio = soup.find(attrs={\"data-field\": \"UltimoPrecio\"})\n",
    "        \n",
    "        if elemento_precio is not None:\n",
    "            ultimo_precio = elemento_precio.text.strip()\n",
    "            \n",
    "            # Obtener la celda siguiente vacía en la columna A\n",
    "            celda_vacia = ws.cell(row=ws.max_row + 1, column=1)\n",
    "            celda_vacia.value = ultimo_precio\n",
    "            \n",
    "            # Guardar el archivo de Excel\n",
    "            wb.save(ruta_excel)\n",
    "        else:\n",
    "            print(\"No se encontró el dato 'UltimoPrecio' en la página.\")\n",
    "    else:\n",
    "        print(\"Error al obtener la página:\", response.status_code)\n",
    "\n",
    "# Actualizar y guardar el precio cada minuto\n",
    "while True:\n",
    "    actualizar_precio()\n",
    "    time.sleep(60)  # Esperar 60 segundos\n"
   ]
  },
  {
   "cell_type": "code",
   "execution_count": null,
   "metadata": {},
   "outputs": [
    {
     "name": "stdout",
     "output_type": "stream",
     "text": [
      "Requirement already satisfied: openpyxl in /Users/mrz/opt/anaconda3/lib/python3.9/site-packages (3.0.9)\n",
      "Requirement already satisfied: et-xmlfile in /Users/mrz/opt/anaconda3/lib/python3.9/site-packages (from openpyxl) (1.1.0)\n",
      "Note: you may need to restart the kernel to use updated packages.\n"
     ]
    }
   ],
   "source": []
  },
  {
   "cell_type": "code",
   "execution_count": 24,
   "metadata": {},
   "outputs": [
    {
     "name": "stdout",
     "output_type": "stream",
     "text": [
      "Tabla de cotizaciones guardada en el archivo: /Users/mrz/Documents/jupyter/anker/precio.xlsx\n"
     ]
    }
   ],
   "source": [
    "import requests\n",
    "import time\n",
    "from bs4 import BeautifulSoup\n",
    "from openpyxl import Workbook\n",
    "from openpyxl.utils import get_column_letter\n",
    "\n",
    "# URL de la página web a scrapear\n",
    "url = \"https://www.portfoliopersonal.com/Cotizaciones/Bonos\"\n",
    "\n",
    "# Ruta del archivo de Excel\n",
    "ruta_excel = \"/Users/mrz/Documents/jupyter/anker/precio.xlsx\"\n",
    "\n",
    "while True:\n",
    "    # Realizar la solicitud HTTP GET a la página\n",
    "    response = requests.get(url)\n",
    "\n",
    "    # Comprobar el estado de la respuesta\n",
    "    if response.status_code == 200:\n",
    "        # Crear un objeto BeautifulSoup con el contenido HTML de la página\n",
    "        soup = BeautifulSoup(response.content, \"html.parser\")\n",
    "\n",
    "        # Encontrar la tabla de cotizaciones\n",
    "        tabla_cotizaciones = soup.find(\"table\", class_=\"table\")\n",
    "\n",
    "        if tabla_cotizaciones is not None:\n",
    "            # Crear el archivo de Excel\n",
    "            wb = Workbook()\n",
    "            ws = wb.active\n",
    "            ws.title = \"Cotizaciones\"\n",
    "\n",
    "            # Obtener las filas de la tabla\n",
    "            filas = tabla_cotizaciones.find_all(\"tr\")\n",
    "\n",
    "            # Iterar sobre las filas y guardar los datos en el archivo de Excel\n",
    "            for fila_index, fila in enumerate(filas):\n",
    "                celdas = fila.find_all(\"td\")\n",
    "                for indice, celda in enumerate(celdas):\n",
    "                    columna = get_column_letter(indice + 1)\n",
    "                    ws[columna + str(fila_index + 1)] = celda.text.strip()\n",
    "\n",
    "            # Guardar el archivo de Excel\n",
    "            wb.save(ruta_excel)\n",
    "\n",
    "            print(\"Tabla de cotizaciones guardada en el archivo:\", ruta_excel)\n",
    "        else:\n",
    "            print(\"No se encontró la tabla de cotizaciones en la página.\")\n",
    "    else:\n",
    "        print(\"Error al obtener la página:\", response.status_code)\n",
    "\n",
    "    # Esperar 20 minutos antes de la siguiente ejecución\n",
    "    time.sleep(20 * 60)  # 20 minutos en segundos (20 * 60)\n"
   ]
  }
 ],
 "metadata": {
  "kernelspec": {
   "display_name": "base",
   "language": "python",
   "name": "python3"
  },
  "language_info": {
   "codemirror_mode": {
    "name": "ipython",
    "version": 3
   },
   "file_extension": ".py",
   "mimetype": "text/x-python",
   "name": "python",
   "nbconvert_exporter": "python",
   "pygments_lexer": "ipython3",
   "version": "3.9.12"
  },
  "orig_nbformat": 4
 },
 "nbformat": 4,
 "nbformat_minor": 2
}
