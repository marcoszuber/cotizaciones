{
 "cells": [
  {
   "cell_type": "code",
   "execution_count": null,
   "metadata": {},
   "outputs": [],
   "source": []
  },
  {
   "cell_type": "code",
   "execution_count": null,
   "metadata": {},
   "outputs": [],
   "source": []
  },
  {
   "cell_type": "code",
   "execution_count": 27,
   "metadata": {},
   "outputs": [
    {
     "name": "stdout",
     "output_type": "stream",
     "text": [
      "Tabla de cotizaciones guardada en el archivo: /Users/mrz/Documents/jupyter/anker/precio.xlsx\n"
     ]
    },
    {
     "ename": "KeyboardInterrupt",
     "evalue": "",
     "output_type": "error",
     "traceback": [
      "\u001b[0;31m---------------------------------------------------------------------------\u001b[0m",
      "\u001b[0;31mKeyboardInterrupt\u001b[0m                         Traceback (most recent call last)",
      "\u001b[1;32m/Users/mrz/Documents/jupyter/anker/precios_exel.ipynb Celda 3\u001b[0m in \u001b[0;36m<cell line: 15>\u001b[0;34m()\u001b[0m\n\u001b[1;32m     <a href='vscode-notebook-cell:/Users/mrz/Documents/jupyter/anker/precios_exel.ipynb#W2sZmlsZQ%3D%3D?line=47'>48</a>\u001b[0m     \u001b[39mprint\u001b[39m(\u001b[39m\"\u001b[39m\u001b[39mError al obtener la página:\u001b[39m\u001b[39m\"\u001b[39m, response\u001b[39m.\u001b[39mstatus_code)\n\u001b[1;32m     <a href='vscode-notebook-cell:/Users/mrz/Documents/jupyter/anker/precios_exel.ipynb#W2sZmlsZQ%3D%3D?line=49'>50</a>\u001b[0m \u001b[39m# Esperar 20 minutos antes de la siguiente ejecución\u001b[39;00m\n\u001b[0;32m---> <a href='vscode-notebook-cell:/Users/mrz/Documents/jupyter/anker/precios_exel.ipynb#W2sZmlsZQ%3D%3D?line=50'>51</a>\u001b[0m time\u001b[39m.\u001b[39;49msleep(\u001b[39m20\u001b[39;49m \u001b[39m*\u001b[39;49m \u001b[39m60\u001b[39;49m)\n",
      "\u001b[0;31mKeyboardInterrupt\u001b[0m: "
     ]
    }
   ],
   "source": [
    "import requests\n",
    "import time\n",
    "from bs4 import BeautifulSoup\n",
    "from openpyxl import Workbook\n",
    "from openpyxl.utils import get_column_letter\n",
    "\n",
    "# URL de la página web a scrapear\n",
    "url = \"https://www.portfoliopersonal.com/Cotizaciones/Bonos\"\n",
    "\n",
    "# Ruta del archivo de Excel\n",
    "ruta_excel = \"/Users/mrz/Documents/jupyter/anker/precio.xlsx\"\n",
    "\n",
    "while True:\n",
    "    # Realizar la solicitud HTTP GET a la página\n",
    "    response = requests.get(url)\n",
    "\n",
    "    # Comprobar el estado de la respuesta\n",
    "    if response.status_code == 200:\n",
    "        # Crear un objeto BeautifulSoup con el contenido HTML de la página\n",
    "        soup = BeautifulSoup(response.content, \"html.parser\")\n",
    "\n",
    "        # Encontrar la tabla de cotizaciones\n",
    "        tabla_cotizaciones = soup.find(\"table\", class_=\"table\")\n",
    "\n",
    "        if tabla_cotizaciones is not None:\n",
    "            # Crear el archivo de Excel\n",
    "            wb = Workbook()\n",
    "            ws = wb.active\n",
    "            ws.title = \"Cotizaciones\"\n",
    "\n",
    "            # Obtener las filas de la tabla\n",
    "            filas = tabla_cotizaciones.find_all(\"tr\")\n",
    "\n",
    "            # Iterar sobre las filas y guardar los datos en el archivo de Excel\n",
    "            for fila_index, fila in enumerate(filas):\n",
    "                celdas = fila.find_all(\"td\")\n",
    "                for indice, celda in enumerate(celdas):\n",
    "                    columna = get_column_letter(indice + 1)\n",
    "                    ws[columna + str(fila_index + 1)] = celda.text.strip()\n",
    "\n",
    "            # Guardar el archivo de Excel\n",
    "            wb.save(ruta_excel)\n",
    "\n",
    "            print(\"Archivo de Excel guardado correctamente al las\", time.strftime(\"%H:%M:%S\"), \"horas.\")\n",
    "        else:\n",
    "            print(\"No se encontró la tabla de cotizaciones en la página.\")\n",
    "    else:\n",
    "        print(\"Error al obtener la página:\", response.status_code)\n",
    "\n",
    "    # Esperar 20 minutos antes de la siguiente ejecución\n",
    "    time.sleep(20 * 60)  # 20 minutos en segundos (20 * 60)\n"
   ]
  }
 ],
 "metadata": {
  "kernelspec": {
   "display_name": "base",
   "language": "python",
   "name": "python3"
  },
  "language_info": {
   "codemirror_mode": {
    "name": "ipython",
    "version": 3
   },
   "file_extension": ".py",
   "mimetype": "text/x-python",
   "name": "python",
   "nbconvert_exporter": "python",
   "pygments_lexer": "ipython3",
   "version": "3.9.12"
  },
  "orig_nbformat": 4
 },
 "nbformat": 4,
 "nbformat_minor": 2
}
